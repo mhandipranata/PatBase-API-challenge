{
 "cells": [
  {
   "cell_type": "markdown",
   "metadata": {},
   "source": [
    "# Patent Data Extraction"
   ]
  },
  {
   "cell_type": "markdown",
   "metadata": {},
   "source": [
    "## Extract - Patent Data from PatBase API"
   ]
  },
  {
   "cell_type": "markdown",
   "metadata": {},
   "source": [
    "PatBase is a patent database for patent search and analysis platform with worldwide coverage.\n",
    "PatBase has a REST API paid license which use to extract patent data information, e.g. priority, publication date, family member, patent status, legal status, assignee, inventor, etc.\n",
    "\n",
    "PatBase REST API Documentation: http://www.patbase.com/rest/PatBaseRestAPI.pdf\n",
    "\n",
    "Here I will extract couple of patent informations with API call to PatBase.\n",
    "License is necessary for PatBase UI access and API request."
   ]
  },
  {
   "cell_type": "code",
   "execution_count": null,
   "metadata": {},
   "outputs": [],
   "source": [
    "# Dependencies\n",
    "import re, json\n",
    "import requests\n",
    "import pandas as pd\n",
    "import codecs\n",
    "from config_patbase_2 import user_name, enter_key\n",
    "\n",
    "import warnings\n",
    "warnings.filterwarnings('ignore')"
   ]
  },
  {
   "cell_type": "code",
   "execution_count": null,
   "metadata": {},
   "outputs": [],
   "source": [
    "# Access PatBase API using username and password\n",
    "login_url = f\"https://www.patbase.com/rest/api.php?method=login&userid={user_name}&password={enter_key}\"\n",
    "session_response = requests.Session().get(login_url, verify=False)\n",
    "\n",
    "# Extract the cookies from the requests session to requests data later\n",
    "cookiejar = session_response.cookies.get_dict()\n",
    "print(cookiejar)"
   ]
  },
  {
   "cell_type": "markdown",
   "metadata": {},
   "source": [
    "### GetMember\n",
    "This method is used to get more information on a single member of a family, be it a publication or an\n",
    "application document. This method requires authorization.\n",
    "Usage\n",
    "\n",
    "URL:\n",
    "https://www.patbase.com/rest/api.php?method=getmember&pn=[Patent Number]&kd=[Kind\n",
    "Code*]&ft=[True/False*]&legal=[True/False*]\n",
    "\n",
    "All values marked with * are optional, you do not need to include the values in the request if they\n",
    "are unwanted. "
   ]
  },
  {
   "cell_type": "code",
   "execution_count": null,
   "metadata": {},
   "outputs": [],
   "source": [
    "# Requests GetMember data and input the cookies we got earlier\n",
    "# Test run for one patent (Example: pn=IN245512)\n",
    "url = 'https://www.patbase.com/rest/api.php?method=getmember&pn=IN245512'\n",
    "requests_jar = requests.cookies.RequestsCookieJar()\n",
    "requests_jar.set('SessionFarm_GUID', cookiejar['SessionFarm_GUID'])\n",
    "\n",
    "response = requests.get(url, cookies=requests_jar)\n",
    "decoded_response = codecs.decode(response.text.encode(), 'utf-8-sig')\n",
    "data = json.loads(decoded_response)\n",
    "print(json.dumps(data, indent=4))"
   ]
  },
  {
   "cell_type": "code",
   "execution_count": null,
   "metadata": {},
   "outputs": [],
   "source": [
    "patbase_family_number  = data[\"Family\"]\n",
    "patent_number = data[\"Publications\"][0][\"PN\"]\n",
    "application_number = data[\"Publications\"][0][\"AN\"]\n",
    "kind_code = data[\"Publications\"][0][\"KD\"]\n",
    "\n",
    "print(patbase_family_number)\n",
    "print(patent_number)\n",
    "print(application_number)\n",
    "print(kind_code)"
   ]
  },
  {
   "cell_type": "code",
   "execution_count": null,
   "metadata": {},
   "outputs": [],
   "source": [
    "# List of patent/application numbers to be searched\n",
    "patent_list = ['JP3174742', 'JP3215114', 'JP3236849']\n",
    "\n",
    "requests_jar = requests.cookies.RequestsCookieJar()\n",
    "requests_jar.set('SessionFarm_GUID', cookiejar['SessionFarm_GUID'])\n",
    "\n",
    "# Using for loop we will request the patent data information \n",
    "# (PatBase family number, patent number, application number, kind code)\n",
    "\n",
    "family_number_list = []\n",
    "patent_number_list = []\n",
    "application_number_list = []\n",
    "kind_code_list = []\n",
    "\n",
    "for patent in patent_list:\n",
    "    url = f'https://www.patbase.com/rest/api.php?method=getmember&pn={patent}'\n",
    "    response = requests.get(url, cookies=requests_jar)\n",
    "    decoded_response = codecs.decode(response.text.encode(), 'utf-8-sig')\n",
    "    data = json.loads(decoded_response)\n",
    "    \n",
    "    family_number_list.append(data[\"Family\"])\n",
    "    patent_number_list.append(data[\"Publications\"][0][\"PN\"])\n",
    "    application_number_list.append(data[\"Publications\"][0][\"AN\"])\n",
    "    kind_code_list.append(data[\"Publications\"][0][\"KD\"])\n",
    "    \n",
    "print(family_number_list)\n",
    "print(patent_number_list)\n",
    "print(application_number_list)\n",
    "print(kind_code_list)"
   ]
  },
  {
   "cell_type": "code",
   "execution_count": null,
   "metadata": {},
   "outputs": [],
   "source": [
    "# Requests GetMember data and input the cookies we got earlier\n",
    "# Test run for one patent (Example: pn=JP3174742)\n",
    "url = 'https://www.patbase.com/rest/api.php?method=getmember&pn=JP3174742'\n",
    "requests_jar = requests.cookies.RequestsCookieJar()\n",
    "requests_jar.set('SessionFarm_GUID', cookiejar['SessionFarm_GUID'])\n",
    "\n",
    "response = requests.get(url, cookies=requests_jar)\n",
    "decoded_response = codecs.decode(response.text.encode(), 'utf-8-sig')\n",
    "data = json.loads(decoded_response)\n",
    "print(json.dumps(data, indent=4))"
   ]
  },
  {
   "cell_type": "markdown",
   "metadata": {},
   "source": [
    "### Query\n",
    "\n",
    "This method is used to run a query on the PatBase Database, authorization is required for this\n",
    "method.\n",
    "\n",
    "URL:\n",
    "https://www.patbase.com/rest/api.php?method=query&query=[PatBaseQuery]\n"
   ]
  },
  {
   "cell_type": "code",
   "execution_count": null,
   "metadata": {},
   "outputs": [],
   "source": [
    "# Requests Query data and input the cookies we got earlier\n",
    "# Test run for one patent \n",
    "q_url = 'https://www.patbase.com/rest/api.php?method=query&query=PN%3DJP3174742'\n",
    "requests_jar = requests.cookies.RequestsCookieJar()\n",
    "requests_jar.set('SessionFarm_GUID', cookiejar['SessionFarm_GUID'])\n",
    "\n",
    "q_response = requests.get(q_url, cookies=requests_jar, verify=False)\n",
    "decoded_q_response = codecs.decode(q_response.text.encode(), 'utf-8-sig')\n",
    "q_results = json.loads(decoded_q_response)\n",
    "print(json.dumps(q_results, indent=4))"
   ]
  },
  {
   "cell_type": "markdown",
   "metadata": {},
   "source": [
    "### SearchResultsBIB\n",
    "\n",
    "This method is used to get the bibliographic information of a search result. This method requires\n",
    "authorization.\n",
    "\n",
    "URL:\n",
    "https://www.patbase.com/rest/api.php?method=searchresultsbib&querykey=[QueryKey]&s\n",
    "ortorder=[sortorder*]&from=[from*]&to=[to*]\n",
    "\n",
    "All values marked with * are optional, you do not need to include the values in the request if they\n",
    "are unwanted. "
   ]
  },
  {
   "cell_type": "code",
   "execution_count": null,
   "metadata": {},
   "outputs": [],
   "source": [
    "# With the QueryKey we can extract the patent data information we need\n",
    "# We will extract patents' bibliographic information\n",
    "# Test run for one patent \n",
    "query_key = q_results[\"QueryKey\"]\n",
    "bib_url = f'https://www.patbase.com/rest/api.php?method=searchresultsbib&querykey={query_key}'\n",
    "requests_jar = requests.cookies.RequestsCookieJar()\n",
    "requests_jar.set('SessionFarm_GUID', cookiejar['SessionFarm_GUID'])\n",
    "\n",
    "bib_response = requests.get(bib_url, cookies=requests_jar, verify=False)\n",
    "decoded_bib_response = codecs.decode(bib_response.text.encode(), 'utf-8-sig')\n",
    "bib_results = json.loads(decoded_bib_response)\n",
    "print(json.dumps(bib_results, indent=4))"
   ]
  },
  {
   "cell_type": "code",
   "execution_count": null,
   "metadata": {},
   "outputs": [],
   "source": [
    "# Test run to extract the patent data information for granted patent only\n",
    "total_results = pd.to_numeric(q_results[\"Results\"])\n",
    "\n",
    "collect_patent_no = []\n",
    "collect_kind_code = []\n",
    "collect_application_no = []\n",
    "collect_assignee = []\n",
    "\n",
    "for result in range(0, total_results):\n",
    "    bib_result = bib_results[\"Families\"][result]\n",
    "    \n",
    "    for p in range(0, len(bib_result[\"Publications\"])):\n",
    "        if (bib_result[\"Publications\"][p][\"PN\"] == 'JP3174742') and ('B' in bib_result[\"Publications\"][p][\"KD\"]):\n",
    "            collect_patent_no.append(bib_result[\"Publications\"][p][\"PN\"])\n",
    "            collect_kind_code.append(bib_result[\"Publications\"][p][\"KD\"])\n",
    "            collect_application_no.append(bib_result[\"Publications\"][p][\"AN\"])\n",
    "            collect_assignee.append(bib_result['ProbableAssignee'])\n",
    "            \n",
    "\n",
    "print(collect_patent_no)\n",
    "print(collect_kind_code)\n",
    "print(collect_application_no)\n",
    "print(collect_assignee)"
   ]
  },
  {
   "cell_type": "markdown",
   "metadata": {},
   "source": [
    "### Patent Data Extraction with PatBase API\n",
    "#### API Call Type: 'Query' and 'Search ResultsBIB'"
   ]
  },
  {
   "cell_type": "code",
   "execution_count": null,
   "metadata": {},
   "outputs": [],
   "source": [
    "# List of patent/application numbers to be searched/requested are saved in a csv file, so read csv\n",
    "patent_df = pd.read_csv(\"patent_list_to_request_KR_2.csv\", dtype=str)\n",
    "patent_df = patent_df.rename(columns={\"current_patent_number \": \"current_patent_number\"})\n",
    "patent_df[\"country_and_patent_number\"] = patent_df[\"country\"] + patent_df[\"current_patent_number\"].astype(str)\n",
    "\n",
    "patent_list = patent_df[\"country_and_patent_number\"].to_list()\n",
    "print(patent_list)"
   ]
  },
  {
   "cell_type": "code",
   "execution_count": null,
   "metadata": {},
   "outputs": [],
   "source": [
    "len(patent_list)"
   ]
  },
  {
   "cell_type": "code",
   "execution_count": null,
   "metadata": {},
   "outputs": [],
   "source": [
    "# CODE FOR SEARCHING PATENT NUMBER (PATENT HAS BEEN GRANTED)\n",
    "\n",
    "requests_jar = requests.cookies.RequestsCookieJar()\n",
    "requests_jar.set('SessionFarm_GUID', cookiejar['SessionFarm_GUID'])\n",
    "\n",
    "# Using for loop we will request the patent data information with 'Query' call which will give\n",
    "# the number of patent records exist in PatBase for the searched patent and \n",
    "# 'QueryKey' as a key to extract the actual data on the next call ('SearchResultsBIB')\n",
    "\n",
    "# Create empty list to store the patent data information \n",
    "# (patent number, kind code, application number, PatBase family number, and Assignee)\n",
    "collect_patent_no = []\n",
    "collect_kind_code = []\n",
    "collect_application_no = []\n",
    "collect_family_no = []\n",
    "collect_assignee = []\n",
    "\n",
    "for patent in patent_list:\n",
    "    \n",
    "    try:\n",
    "        # Requests Query data and input the cookies we got earlier\n",
    "        q_url = f'https://www.patbase.com/rest/api.php?method=query&query=PN%3D{patent}'\n",
    "        q_response = requests.get(q_url, cookies=requests_jar, verify=False)\n",
    "        decoded_q_response = codecs.decode(q_response.text.encode(), 'utf-8-sig')\n",
    "        q_results = json.loads(decoded_q_response)\n",
    "\n",
    "        # With the QueryKey we can extract the patent data information we need\n",
    "        # We will extract patents' bibliographic information\n",
    "        total_results = pd.to_numeric(q_results[\"Results\"])\n",
    "        query_key = q_results[\"QueryKey\"]\n",
    "\n",
    "        bib_url = f'https://www.patbase.com/rest/api.php?method=searchresultsbib&querykey={query_key}'\n",
    "        bib_response = requests.get(bib_url, cookies=requests_jar, verify=False)\n",
    "        decoded_bib_response = codecs.decode(bib_response.text.encode(), 'utf-8-sig')\n",
    "        bib_results = json.loads(decoded_bib_response)\n",
    "\n",
    "        print(f\"Running records for {patent}\")\n",
    "\n",
    "        # One patent might have multiple records in PatBase / different patent but with same patent number\n",
    "        # We want to make sure we extract only the granted patent \n",
    "        # For loop each records found in PatBase \n",
    "        for result in range(0, total_results):\n",
    "            bib_result = bib_results[\"Families\"][result]\n",
    "\n",
    "            # Each records found will list all the publications/patents under the same family\n",
    "            # so we need to ensure to only extract the patent we are searching for \n",
    "            for p in range(0, len(bib_result[\"Publications\"])):\n",
    "\n",
    "                # Extract only the patent we are searching for and the patent is granted (kind code starts with 'B')\n",
    "                if (bib_result[\"Publications\"][p][\"PN\"] == patent) and ('B' in bib_result[\"Publications\"][p][\"KD\"]):\n",
    "                    print(\"Granted patent exists\")\n",
    "                    collect_patent_no.append(bib_result[\"Publications\"][p][\"PN\"])\n",
    "                    collect_kind_code.append(bib_result[\"Publications\"][p][\"KD\"])\n",
    "                    collect_application_no.append(bib_result[\"Publications\"][p][\"AN\"])\n",
    "                    collect_family_no.append(bib_result[\"Family\"])\n",
    "                    collect_assignee.append(bib_result['ProbableAssignee'])\n",
    "                    print(\"----------------------------------------\")\n",
    "\n",
    "    except:\n",
    "        collect_patent_no.append(patent)\n",
    "        collect_kind_code.append(None)\n",
    "        collect_application_no.append(None)\n",
    "        collect_family_no.append(None)\n",
    "        collect_assignee.append(None)\n",
    "        \n",
    "print(\"PATENT DATA:\")               \n",
    "print(collect_patent_no)\n",
    "print(collect_kind_code)\n",
    "print(collect_application_no)\n",
    "print(collect_family_no)\n",
    "print(collect_assignee)\n"
   ]
  },
  {
   "cell_type": "code",
   "execution_count": null,
   "metadata": {},
   "outputs": [],
   "source": [
    "# CODE FOR SEARCHING APPLICATION NUMBER (PATENT IS CURRENTLY AN APPLICATION / NOT GRANTED YET)\n",
    "\n",
    "requests_jar = requests.cookies.RequestsCookieJar()\n",
    "requests_jar.set('SessionFarm_GUID', cookiejar['SessionFarm_GUID'])\n",
    "\n",
    "# Using for loop we will request the patent data information with 'Query' call which will give\n",
    "# the number of patent records exist in PatBase for the searched patent and \n",
    "# 'QueryKey' as a key to extract the actual data on the next call ('SearchResultsBIB')\n",
    "\n",
    "# Create empty list to store the patent data information \n",
    "# (patent number, kind code, application number, PatBase family number, and Assignee)\n",
    "collect_patent_no = []\n",
    "collect_kind_code = []\n",
    "collect_application_no = []\n",
    "collect_family_no = []\n",
    "collect_assignee = []\n",
    "\n",
    "for patent in patent_list:\n",
    "    \n",
    "    try:\n",
    "        # Requests Query data and input the cookies we got earlier\n",
    "        q_url = f'https://www.patbase.com/rest/api.php?method=query&query=AN%3D{patent}'\n",
    "        q_response = requests.get(q_url, cookies=requests_jar, verify=False)\n",
    "        decoded_q_response = codecs.decode(q_response.text.encode(), 'utf-8-sig')\n",
    "        q_results = json.loads(decoded_q_response)\n",
    "\n",
    "        # With the QueryKey we can extract the patent data information we need\n",
    "        # We will extract patents' bibliographic information\n",
    "        total_results = pd.to_numeric(q_results[\"Results\"])\n",
    "        query_key = q_results[\"QueryKey\"]\n",
    "\n",
    "        bib_url = f'https://www.patbase.com/rest/api.php?method=searchresultsbib&querykey={query_key}'\n",
    "        bib_response = requests.get(bib_url, cookies=requests_jar, verify=False)\n",
    "        decoded_bib_response = codecs.decode(bib_response.text.encode(), 'utf-8-sig')\n",
    "        bib_results = json.loads(decoded_bib_response)\n",
    "\n",
    "        print(f\"Running records for {patent}\")\n",
    "\n",
    "        # One patent might have multiple records in PatBase / different patent but with same patent number\n",
    "        # We want to make sure we extract only the granted patent \n",
    "        # For loop each records found in PatBase \n",
    "        for result in range(0, total_results):\n",
    "            bib_result = bib_results[\"Families\"][result]\n",
    "\n",
    "            # Each records found will list all the publications/patents under the same family\n",
    "            # so we need to ensure to only extract the patent we are searching for \n",
    "            for p in range(0, len(bib_result[\"Publications\"])):\n",
    "\n",
    "                # Extract only the patent we are searching for and the patent is an application \n",
    "                # (kind code starts with 'A', some countries might have different kind code)\n",
    "                if (bib_result[\"Publications\"][p][\"AN\"] == patent) and ('A' in bib_result[\"Publications\"][p][\"KD\"]): \n",
    "#                 or ('C' in bib_result[\"Publications\"][p][\"KD\"])):\n",
    "                    print(\"Patent Application exists\")\n",
    "                    collect_patent_no.append(bib_result[\"Publications\"][p][\"PN\"])\n",
    "                    collect_kind_code.append(bib_result[\"Publications\"][p][\"KD\"])\n",
    "                    collect_application_no.append(bib_result[\"Publications\"][p][\"AN\"])\n",
    "                    collect_family_no.append(bib_result[\"Family\"])\n",
    "                    collect_assignee.append(bib_result['ProbableAssignee'])\n",
    "                    print(\"----------------------------------------\")\n",
    "                    \n",
    "    except:\n",
    "        collect_patent_no.append(patent)\n",
    "        collect_kind_code.append(None)\n",
    "        collect_application_no.append(None)\n",
    "        collect_family_no.append(None)\n",
    "        collect_assignee.append(None)\n",
    "        \n",
    "print(\"PATENT DATA:\")               \n",
    "print(collect_patent_no)\n",
    "print(collect_kind_code)\n",
    "print(collect_application_no)\n",
    "print(collect_family_no)\n",
    "print(collect_assignee)\n"
   ]
  },
  {
   "cell_type": "code",
   "execution_count": null,
   "metadata": {},
   "outputs": [],
   "source": [
    "print(len(collect_patent_no))\n",
    "print(len(collect_kind_code))\n",
    "print(len(collect_application_no))\n",
    "print(len(collect_family_no))\n",
    "print(len(collect_assignee))"
   ]
  },
  {
   "cell_type": "code",
   "execution_count": null,
   "metadata": {},
   "outputs": [],
   "source": [
    "# Put the collected patent data into pandas DataFrame\n",
    "dict = {\n",
    "       'patent_number': collect_patent_no,\n",
    "       'kind_code': collect_kind_code,\n",
    "       'application_number': collect_application_no,\n",
    "       'patbase_family_number': collect_family_no,\n",
    "       'assignee': collect_assignee\n",
    "        }\n",
    "\n",
    "collected_patent_data = pd.DataFrame(dict)\n",
    "collected_patent_data"
   ]
  },
  {
   "cell_type": "code",
   "execution_count": null,
   "metadata": {},
   "outputs": [],
   "source": [
    "# Back up the data to excel\n",
    "collected_patent_data.to_excel(\"patbase_patent_data_extraction_13.xlsx\", index=False, header=True)"
   ]
  },
  {
   "cell_type": "code",
   "execution_count": null,
   "metadata": {},
   "outputs": [],
   "source": []
  }
 ],
 "metadata": {
  "kernelspec": {
   "display_name": "Python 3",
   "language": "python",
   "name": "python3"
  },
  "language_info": {
   "codemirror_mode": {
    "name": "ipython",
    "version": 3
   },
   "file_extension": ".py",
   "mimetype": "text/x-python",
   "name": "python",
   "nbconvert_exporter": "python",
   "pygments_lexer": "ipython3",
   "version": "3.7.4"
  }
 },
 "nbformat": 4,
 "nbformat_minor": 2
}
