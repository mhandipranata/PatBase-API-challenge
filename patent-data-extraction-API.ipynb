{
 "cells": [
  {
   "cell_type": "markdown",
   "metadata": {},
   "source": [
    "# Patent Data Extraction"
   ]
  },
  {
   "cell_type": "markdown",
   "metadata": {},
   "source": [
    "## Extract - Patent Data from PatBase API"
   ]
  },
  {
   "cell_type": "markdown",
   "metadata": {},
   "source": [
    "PatBase is a patent database for patent search and analysis platform with worldwide coverage.\n",
    "PatBase has a REST API paid license which use to extract patent data information, e.g. priority, publication date, family member, patent status, legal status, assignee, inventor, etc.\n",
    "\n",
    "PatBase REST API Documentation: http://www.patbase.com/rest/PatBaseRestAPI.pdf\n",
    "\n",
    "Here I will extract couple of patent informations with API call to PatBase.\n",
    "License is necessary for PatBase UI access and API request."
   ]
  },
  {
   "cell_type": "code",
   "execution_count": 3,
   "metadata": {},
   "outputs": [],
   "source": [
    "# Dependencies\n",
    "import re, json\n",
    "import requests\n",
    "import pandas as pd\n",
    "import codecs\n",
    "from config_patbase import user_name, enter_key"
   ]
  },
  {
   "cell_type": "code",
   "execution_count": 90,
   "metadata": {},
   "outputs": [
    {
     "name": "stdout",
     "output_type": "stream",
     "text": [
      "{'LOGIN_TO_API': 'OK'}\n",
      "SessionFarm_GUID=%7B8B9B8B5E-4699-4488-B52A-07B9B44311E1%7D; path=/, OGSession=2aede6a8c2fc5207e21204bc85b8e5b35d008cf9e9a3adf8bc00c74eba725e85;Path=/;Domain=www.patbase.com, visid_incap_9867=0vOC7YLQS+mUDiisHkU1JMhG8F4AAAAAQUIPAAAAAACzRS6CX4jgbzaurAWs8l7m; expires=Mon, 21 Jun 2021 06:59:59 GMT; HttpOnly; path=/; Domain=.patbase.com, nlbi_9867=CHxWQ1ZfIAxgAO8ohoeo8gAAAAAW81wVxrOVvQBsh9EsZXJD; path=/; Domain=.patbase.com, incap_ses_568_9867=mgtkJC/jYBx/sevsBvHhB8hG8F4AAAAAKdYRT0KG6JeKC60w/djzSw==; path=/; Domain=.patbase.com\n"
     ]
    }
   ],
   "source": [
    "# PatBase API\n",
    "# headers = {\n",
    "#     'method': 'login',\n",
    "#     'userid': user_name,\n",
    "#     'password': enter_key\n",
    "# }\n",
    "\n",
    "login_url = f\"https://www.patbase.com/rest/api.php?method=login&userid={user_name}&password={enter_key}\"\n",
    "session_response = requests.get(login_url)\n",
    "# session_response\n",
    "# session_response = requests.post(login_url, headers=headers)\n",
    "# session_response_json = session_response.json()\n",
    "# print(json.dumps(session_response_json, indent = 4))\n",
    "# decoded_response = session_response.text\n",
    "# decoded_response\n",
    "\n",
    "# session_response_json = json.loads(session_response)\n",
    "# print(session_response_json)\n",
    "# print(json.dumps(session_response, indent = 4))\n",
    "# resp_parsed = re.sub(r'^jsonp\\d+\\(|\\)\\s+$', '', session_response.content.decode('utf-8-sig'))\n",
    "# resp_parsed\n",
    "# data = json.loads(resp_parsed.read())\n",
    "# print(data)\n",
    "# session_response_json = session_response.json()\n",
    "# decoded_response = session_response.content.decode('utf-8-sig')\n",
    "# # .replace('\\0', '')\n",
    "# data = json.loads(decoded_response)\n",
    "# print(data)\n",
    "decoded_response = codecs.decode(session_response.text.encode(), 'utf-8-sig')\n",
    "data = json.loads(decoded_response)\n",
    "print(data)\n",
    "authorization_code = session_response.headers['Set-Cookie']\n",
    "print(authorization_code)\n",
    "# decoded_response = session_response.text.encode().decode('utf-8-sig') \n",
    "# decoded_response\n",
    "\n"
   ]
  },
  {
   "cell_type": "code",
   "execution_count": 4,
   "metadata": {},
   "outputs": [
    {
     "name": "stdout",
     "output_type": "stream",
     "text": [
      "{'incap_ses_567_9867': 'QVpVSv3anHhQAzmXkWPeB4Up+V4AAAAAfaEkEcL7kwo4Cntze4FiHQ==', 'nlbi_9867': 'kwrlRWUhaAhOAwwXhoeo8gAAAABrbE16gVktnrnjx7wMzJ7r', 'visid_incap_9867': 'YAGaSbFSRbmXNOOLXhvQSoQp+V4AAAAAQUIPAAAAAACZPCED/oJFFTDuGLjjJnHJ', 'OGSession': '637b0c70ff77678a2b61973cd5900fa90bf61be4847312b8fd6e64686239ed5a', 'SessionFarm_GUID': '%7B16B3E551-9285-47CD-A36B-3F1B59B11EA6%7D'}\n"
     ]
    }
   ],
   "source": [
    "# Access PatBase API using username and password\n",
    "login_url = f\"https://www.patbase.com/rest/api.php?method=login&userid={user_name}&password={enter_key}\"\n",
    "session_response = requests.Session().get(login_url)\n",
    "\n",
    "# Extract the cookies from the requests session to requests data later\n",
    "cookiejar = session_response.cookies.get_dict()\n",
    "print(cookiejar)"
   ]
  },
  {
   "cell_type": "markdown",
   "metadata": {},
   "source": [
    "### GetMember\n",
    "This method is used to get more information on a single member of a family, be it a publication or an\n",
    "application document. This method requires authorization.\n",
    "Usage\n",
    "\n",
    "URL:\n",
    "https://www.patbase.com/rest/api.php?method=getmember&pn=[Patent Number]&kd=[Kind\n",
    "Code*]&ft=[True/False*]&legal=[True/False*]\n",
    "\n",
    "All values marked with * are optional, you do not need to include the values in the request if they\n",
    "are unwanted. "
   ]
  },
  {
   "cell_type": "code",
   "execution_count": 6,
   "metadata": {},
   "outputs": [
    {
     "name": "stdout",
     "output_type": "stream",
     "text": [
      "{'Family': 32619612, 'Publications': [{'PN': 'IN245512', 'KD': 'B', 'CC': 'IN', 'PD': '20110128', 'AN': 'IN2007CN01024', 'AD': '20070309', 'UE': '1105', 'IMG': 0, 'DA': 'ALIVE'}], 'Priorities': [{'PR': 'JP20040234884', 'PRD': '20040811'}, {'PR': 'WO2005JP14756', 'PRD': '20050811'}], 'IPC': [], 'CPC': [], 'USC': [], 'Assignees': [{'PA': 'NTT DOCOMO INC', 'CCOR': '', 'STD': 'N'}], 'Inventors': [{'INV': 'NAKAMURA TAKEHIRO', 'CCOR': '', 'STD': 'N'}, {'INV': 'UMESH ANIL', 'CCOR': '', 'STD': 'N'}, {'INV': 'USUDA MASAFUMI', 'CCOR': '', 'STD': 'N'}], 'Agent': [], 'ForwardCitations': [], 'BackwardCitations': [], 'LegalStatus': [], 'DesignatedStates': [], 'ProbableAssignee': 'NTT DOCOMO INC', 'Title': 'MOBILE COMMUNICATION SYSTEM FOR PACKET TRANSMISSION SCHEME BETWEEN A MOBILE STATION AND A BASE STATION', 'Abstract': 'The present invention relates to a mobile communication system which applies a high-speed downlink packet transmission scheme (HSDPA scheme) in a downlink and an enhanced uplink packet transmission scheme (EUL scheme) in an uplink between a mobile station and a base station. In the mobile communication system according to the present invention, a serving cell in the high-speed downlink packet transmission scheme for a specified mobile station and a serving cell in the enhanced uplink packet transmission scheme for the specified mobile station are modified so as to become the same cell.', 'FullText': []}\n"
     ]
    }
   ],
   "source": [
    "# Requests GetMember data and input the cookies we got earlier\n",
    "url = 'https://www.patbase.com/rest/api.php?method=getmember&pn=IN245512'\n",
    "requests_jar = requests.cookies.RequestsCookieJar()\n",
    "requests_jar.set('SessionFarm_GUID', cookiejar['SessionFarm_GUID'])\n",
    "\n",
    "response = requests.get(url, cookies=requests_jar)\n",
    "decoded_response = codecs.decode(response.text.encode(), 'utf-8-sig')\n",
    "data = json.loads(decoded_response)\n",
    "print(json.dumps(data, indent=4))"
   ]
  },
  {
   "cell_type": "code",
   "execution_count": null,
   "metadata": {},
   "outputs": [],
   "source": []
  }
 ],
 "metadata": {
  "kernelspec": {
   "display_name": "Python 3",
   "language": "python",
   "name": "python3"
  },
  "language_info": {
   "codemirror_mode": {
    "name": "ipython",
    "version": 3
   },
   "file_extension": ".py",
   "mimetype": "text/x-python",
   "name": "python",
   "nbconvert_exporter": "python",
   "pygments_lexer": "ipython3",
   "version": "3.7.4"
  }
 },
 "nbformat": 4,
 "nbformat_minor": 2
}
