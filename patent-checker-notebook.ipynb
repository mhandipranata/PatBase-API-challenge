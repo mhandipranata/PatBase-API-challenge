{
 "cells": [
  {
   "cell_type": "markdown",
   "metadata": {},
   "source": [
    "# Patent Data Extraction"
   ]
  },
  {
   "cell_type": "markdown",
   "metadata": {},
   "source": [
    "## Extract - Patent Data from PatBase API"
   ]
  },
  {
   "cell_type": "markdown",
   "metadata": {},
   "source": [
    "PatBase is a patent database for patent search and analysis platform with worldwide coverage.\n",
    "PatBase has a REST API paid license which use to extract patent data information, e.g. priority, publication date, family member, patent status, legal status, assignee, inventor, etc.\n",
    "\n",
    "Here I will extract couple of patent informations with API call to PatBase.\n",
    "License is necessary for PatBase UI access and API request."
   ]
  },
  {
   "cell_type": "code",
   "execution_count": 137,
   "metadata": {},
   "outputs": [],
   "source": [
    "# Dependencies\n",
    "import re, json\n",
    "import requests\n",
    "import pandas as pd\n",
    "import codecs\n",
    "from config_patbase import user_name, enter_key"
   ]
  },
  {
   "cell_type": "code",
   "execution_count": 90,
   "metadata": {},
   "outputs": [
    {
     "name": "stdout",
     "output_type": "stream",
     "text": [
      "{'LOGIN_TO_API': 'OK'}\n",
      "SessionFarm_GUID=%7B8B9B8B5E-4699-4488-B52A-07B9B44311E1%7D; path=/, OGSession=2aede6a8c2fc5207e21204bc85b8e5b35d008cf9e9a3adf8bc00c74eba725e85;Path=/;Domain=www.patbase.com, visid_incap_9867=0vOC7YLQS+mUDiisHkU1JMhG8F4AAAAAQUIPAAAAAACzRS6CX4jgbzaurAWs8l7m; expires=Mon, 21 Jun 2021 06:59:59 GMT; HttpOnly; path=/; Domain=.patbase.com, nlbi_9867=CHxWQ1ZfIAxgAO8ohoeo8gAAAAAW81wVxrOVvQBsh9EsZXJD; path=/; Domain=.patbase.com, incap_ses_568_9867=mgtkJC/jYBx/sevsBvHhB8hG8F4AAAAAKdYRT0KG6JeKC60w/djzSw==; path=/; Domain=.patbase.com\n"
     ]
    }
   ],
   "source": [
    "# PatBase API\n",
    "# headers = {\n",
    "#     'method': 'login',\n",
    "#     'userid': user_name,\n",
    "#     'password': enter_key\n",
    "# }\n",
    "\n",
    "login_url = f\"https://www.patbase.com/rest/api.php?method=login&userid={user_name}&password={enter_key}\"\n",
    "session_response = requests.get(login_url)\n",
    "# session_response\n",
    "# session_response = requests.post(login_url, headers=headers)\n",
    "# session_response_json = session_response.json()\n",
    "# print(json.dumps(session_response_json, indent = 4))\n",
    "# decoded_response = session_response.text\n",
    "# decoded_response\n",
    "\n",
    "# session_response_json = json.loads(session_response)\n",
    "# print(session_response_json)\n",
    "# print(json.dumps(session_response, indent = 4))\n",
    "# resp_parsed = re.sub(r'^jsonp\\d+\\(|\\)\\s+$', '', session_response.content.decode('utf-8-sig'))\n",
    "# resp_parsed\n",
    "# data = json.loads(resp_parsed.read())\n",
    "# print(data)\n",
    "# session_response_json = session_response.json()\n",
    "# decoded_response = session_response.content.decode('utf-8-sig')\n",
    "# # .replace('\\0', '')\n",
    "# data = json.loads(decoded_response)\n",
    "# print(data)\n",
    "decoded_response = codecs.decode(session_response.text.encode(), 'utf-8-sig')\n",
    "data = json.loads(decoded_response)\n",
    "print(data)\n",
    "authorization_code = session_response.headers['Set-Cookie']\n",
    "print(authorization_code)\n",
    "# decoded_response = session_response.text.encode().decode('utf-8-sig') \n",
    "# decoded_response\n",
    "\n"
   ]
  },
  {
   "cell_type": "code",
   "execution_count": 100,
   "metadata": {},
   "outputs": [
    {
     "data": {
      "text/plain": [
       "'{\"ERROR\":\"Not in Session - Please login again\"}'"
      ]
     },
     "execution_count": 100,
     "metadata": {},
     "output_type": "execute_result"
    }
   ],
   "source": [
    "# headers = {\n",
    "#     'method': 'query',\n",
    "#     'query': f\"PN=({patent})\",\n",
    "#     'Authorization': f\"Bearer {authorization_code}\"\n",
    "# }\n",
    "patent = 'IN245512'\n",
    "\n",
    "headers = {'Cookie': 'SessionFarm_GUID=%7B8B9B8B5E-4699-4488-B52A-07B9B44311E1%7D'}\n",
    "\n",
    "params = {\n",
    "    'method': 'query',\n",
    "    'query': f\"PN=({patent})\",\n",
    "}\n",
    "query_url = f\"https://www.patbase.com/rest/api.php?\"\n",
    "query_response = requests.get(query_url, params=params)\n",
    "# query_response_json = query_response.json()\n",
    "# print(json.dumps(query_response_json, indent = 4))\n",
    "decoded_response = codecs.decode(query_response.text.encode(), 'utf-8-sig')\n",
    "decoded_response\n",
    "# data = json.loads(decoded_response)\n",
    "# data"
   ]
  },
  {
   "cell_type": "code",
   "execution_count": 101,
   "metadata": {},
   "outputs": [
    {
     "data": {
      "text/plain": [
       "<Response [404]>"
      ]
     },
     "execution_count": 101,
     "metadata": {},
     "output_type": "execute_result"
    }
   ],
   "source": [
    "headers = {'Cookie': 'SessionFarm_GUID=%7B8B9B8B5E-4699-4488-B52A-07B9B44311E1%7D'}\n",
    "url = 'https://www.patbase.com/rest2/api.php?method=getmember&pn=IN245512'\n",
    "response = requests.get(url, headers=headers)\n",
    "response\n",
    "# decoded_response = codecs.decode(response.text.encode(), 'utf-8-sig')\n",
    "# decoded_response"
   ]
  },
  {
   "cell_type": "code",
   "execution_count": 145,
   "metadata": {},
   "outputs": [
    {
     "name": "stdout",
     "output_type": "stream",
     "text": [
      "<RequestsCookieJar[<Cookie incap_ses_567_9867=9EG1Ra1TRGyzhDWXkWPeB5sj+V4AAAAAVKbdsX5uVr5l8l04RvH4IA== for .patbase.com/>, <Cookie nlbi_9867=1/FuXnGV8X6/XYo/hoeo8gAAAABgfiJPQibUy3/10OfeU6QQ for .patbase.com/>, <Cookie visid_incap_9867=+CjpmUngQUm42hGnYaJFUpsj+V4AAAAAQUIPAAAAAABqHy8exOeWbbhGPJ5LHnLf for .patbase.com/>, <Cookie OGSession=0d72a4869522efd775d6d95a27d0eb81421919167106a74b737e370c8a75ca74 for .www.patbase.com/>, <Cookie SessionFarm_GUID=%7BC36D2BF5-67AD-4D23-AD2C-144A97F43700%7D for www.patbase.com/>]>\n"
     ]
    }
   ],
   "source": [
    "login_url = f\"https://www.patbase.com/rest/api.php?method=login&userid={user_name}&password={enter_key}\"\n",
    "session_response = requests.Session().get(login_url)\n",
    "cookiejar = session_response.cookies\n",
    "print(cookiejar)"
   ]
  },
  {
   "cell_type": "code",
   "execution_count": 148,
   "metadata": {},
   "outputs": [
    {
     "name": "stdout",
     "output_type": "stream",
     "text": [
      "{'Family': 32619612, 'Publications': [{'PN': 'IN245512', 'KD': 'B', 'CC': 'IN', 'PD': '20110128', 'AN': 'IN2007CN01024', 'AD': '20070309', 'UE': '1105', 'IMG': 0, 'DA': 'ALIVE'}], 'Priorities': [{'PR': 'JP20040234884', 'PRD': '20040811'}, {'PR': 'WO2005JP14756', 'PRD': '20050811'}], 'IPC': [], 'CPC': [], 'USC': [], 'Assignees': [{'PA': 'NTT DOCOMO INC', 'CCOR': '', 'STD': 'N'}], 'Inventors': [{'INV': 'NAKAMURA TAKEHIRO', 'CCOR': '', 'STD': 'N'}, {'INV': 'UMESH ANIL', 'CCOR': '', 'STD': 'N'}, {'INV': 'USUDA MASAFUMI', 'CCOR': '', 'STD': 'N'}], 'Agent': [], 'ForwardCitations': [], 'BackwardCitations': [], 'LegalStatus': [], 'DesignatedStates': [], 'ProbableAssignee': 'NTT DOCOMO INC', 'Title': 'MOBILE COMMUNICATION SYSTEM FOR PACKET TRANSMISSION SCHEME BETWEEN A MOBILE STATION AND A BASE STATION', 'Abstract': 'The present invention relates to a mobile communication system which applies a high-speed downlink packet transmission scheme (HSDPA scheme) in a downlink and an enhanced uplink packet transmission scheme (EUL scheme) in an uplink between a mobile station and a base station. In the mobile communication system according to the present invention, a serving cell in the high-speed downlink packet transmission scheme for a specified mobile station and a serving cell in the enhanced uplink packet transmission scheme for the specified mobile station are modified so as to become the same cell.', 'FullText': []}\n"
     ]
    }
   ],
   "source": [
    "url = 'https://www.patbase.com/rest/api.php?method=getmember&pn=IN245512'\n",
    "requests_jar = requests.cookies.RequestsCookieJar()\n",
    "requests_jar.set('SessionFarm_GUID', '%7BC36D2BF5-67AD-4D23-AD2C-144A97F43700%7D')\n",
    "\n",
    "response = requests.get(url, cookies=requests_jar)\n",
    "decoded_response = codecs.decode(response.text.encode(), 'utf-8-sig')\n",
    "data = json.loads(decoded_response)\n",
    "print(data)"
   ]
  },
  {
   "cell_type": "code",
   "execution_count": 144,
   "metadata": {},
   "outputs": [
    {
     "data": {
      "text/plain": [
       "<Response [404]>"
      ]
     },
     "execution_count": 144,
     "metadata": {},
     "output_type": "execute_result"
    }
   ],
   "source": [
    "# cookies = dict(SessionFarm_GUID='%7B1E69DB7C-883C-4257-98A6-DEDA6DE32815%7D')\n",
    "url = 'https://www.patbase.com/rest/api.php?method=getmember&pn=IN245512'\n",
    "# session = requests.session().cookies.update(cookiejar)\n",
    "response = requests.get(url, cookies=cookiejar)\n",
    "response\n",
    "# cookiejar.add_cookie_header(response)\n"
   ]
  },
  {
   "cell_type": "code",
   "execution_count": 136,
   "metadata": {},
   "outputs": [
    {
     "ename": "ModuleNotFoundError",
     "evalue": "No module named 'Cookie'",
     "output_type": "error",
     "traceback": [
      "\u001b[0;31m---------------------------------------------------------------------------\u001b[0m",
      "\u001b[0;31mModuleNotFoundError\u001b[0m                       Traceback (most recent call last)",
      "\u001b[0;32m<ipython-input-136-03552a51cc52>\u001b[0m in \u001b[0;36m<module>\u001b[0;34m\u001b[0m\n\u001b[0;32m----> 1\u001b[0;31m \u001b[0;32mimport\u001b[0m \u001b[0mCookie\u001b[0m\u001b[0;34m\u001b[0m\u001b[0;34m\u001b[0m\u001b[0m\n\u001b[0m\u001b[1;32m      2\u001b[0m \u001b[0;32mimport\u001b[0m \u001b[0mCookieJar\u001b[0m\u001b[0;34m\u001b[0m\u001b[0;34m\u001b[0m\u001b[0m\n\u001b[1;32m      3\u001b[0m \u001b[0;32mfrom\u001b[0m \u001b[0murllib2\u001b[0m \u001b[0;32mimport\u001b[0m \u001b[0mRequest\u001b[0m\u001b[0;34m\u001b[0m\u001b[0;34m\u001b[0m\u001b[0m\n\u001b[1;32m      4\u001b[0m \u001b[0;32mimport\u001b[0m \u001b[0murllib2\u001b[0m\u001b[0;34m\u001b[0m\u001b[0;34m\u001b[0m\u001b[0m\n\u001b[1;32m      5\u001b[0m \u001b[0;32mimport\u001b[0m \u001b[0murllib\u001b[0m\u001b[0;34m\u001b[0m\u001b[0;34m\u001b[0m\u001b[0m\n",
      "\u001b[0;31mModuleNotFoundError\u001b[0m: No module named 'Cookie'"
     ]
    }
   ],
   "source": [
    "import Cookie\n",
    "import CookieJar\n",
    "from urllib2 import Request\n",
    "import urllib2\n",
    "import urllib"
   ]
  },
  {
   "cell_type": "code",
   "execution_count": null,
   "metadata": {},
   "outputs": [],
   "source": []
  }
 ],
 "metadata": {
  "kernelspec": {
   "display_name": "Python 3",
   "language": "python",
   "name": "python3"
  },
  "language_info": {
   "codemirror_mode": {
    "name": "ipython",
    "version": 3
   },
   "file_extension": ".py",
   "mimetype": "text/x-python",
   "name": "python",
   "nbconvert_exporter": "python",
   "pygments_lexer": "ipython3",
   "version": "3.7.4"
  }
 },
 "nbformat": 4,
 "nbformat_minor": 2
}
